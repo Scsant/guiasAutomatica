{
 "cells": [
  {
   "cell_type": "code",
   "execution_count": 20,
   "metadata": {},
   "outputs": [
    {
     "name": "stdout",
     "output_type": "stream",
     "text": [
      "ChromeDriver instalado em: C:\\Users\\SOCRATES\\.wdm\\drivers\\chromedriver\\win64\\131.0.6778.69\\chromedriver-win32/THIRD_PARTY_NOTICES.chromedriver\n",
      "Erro ao iniciar o driver: [WinError 193] %1 não é um aplicativo Win32 válido\n"
     ]
    }
   ],
   "source": [
    "from selenium import webdriver\n",
    "from selenium.webdriver.chrome.service import Service\n",
    "from webdriver_manager.chrome import ChromeDriverManager\n",
    "\n",
    "def iniciar_driver():\n",
    "    options = webdriver.ChromeOptions()\n",
    "    options.add_argument('--disable-gpu')\n",
    "    options.add_argument('--no-sandbox')\n",
    "    options.add_argument('--headless')  # Comente esta linha se quiser ver a interface gráfica\n",
    "\n",
    "    # Baixar e configurar o ChromeDriver manualmente\n",
    "    driver_path = ChromeDriverManager().install()  # Baixa o driver\n",
    "    print(f\"ChromeDriver instalado em: {driver_path}\")  # Mostra o caminho do driver instalado\n",
    "\n",
    "    # Força o uso do driver de 64 bits (ajustar se necessário)\n",
    "    service = Service(driver_path)\n",
    "    driver = webdriver.Chrome(service=service, options=options)\n",
    "    return driver\n",
    "\n",
    "if __name__ == \"__main__\":\n",
    "    try:\n",
    "        driver = iniciar_driver()\n",
    "        driver.get(\"https://www.google.com\")\n",
    "        print(\"Título da página:\", driver.title)\n",
    "        driver.quit()\n",
    "    except Exception as e:\n",
    "        print(f\"Erro ao iniciar o driver: {e}\")\n"
   ]
  },
  {
   "cell_type": "code",
   "execution_count": 2,
   "metadata": {},
   "outputs": [],
   "source": [
    "x = 1"
   ]
  }
 ],
 "metadata": {
  "kernelspec": {
   "display_name": "Python 3",
   "language": "python",
   "name": "python3"
  },
  "language_info": {
   "codemirror_mode": {
    "name": "ipython",
    "version": 3
   },
   "file_extension": ".py",
   "mimetype": "text/x-python",
   "name": "python",
   "nbconvert_exporter": "python",
   "pygments_lexer": "ipython3",
   "version": "3.11.5"
  }
 },
 "nbformat": 4,
 "nbformat_minor": 2
}
